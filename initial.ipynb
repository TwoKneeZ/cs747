{
 "cells": [
  {
   "cell_type": "code",
   "execution_count": 8,
   "metadata": {},
   "outputs": [
    {
     "name": "stdout",
     "output_type": "stream",
     "text": [
      "The autoreload extension is already loaded. To reload it, use:\n",
      "  %reload_ext autoreload\n"
     ]
    }
   ],
   "source": [
    "import torch\n",
    "import torchvision\n",
    "from torchvision import transforms\n",
    "from torchvision.datasets import ImageFolder\n",
    "from torch.utils.data import DataLoader, random_split\n",
    "\n",
    "from utils import show_images, blackAndWhite\n",
    "\n",
    "import torch\n",
    "import torch.nn as nn\n",
    "import torch.optim as optim\n",
    "\n",
    "%load_ext autoreload\n",
    "%autoreload 2"
   ]
  },
  {
   "cell_type": "code",
   "execution_count": 9,
   "metadata": {},
   "outputs": [
    {
     "data": {
      "text/plain": [
       "device(type='cuda', index=0)"
      ]
     },
     "execution_count": 9,
     "metadata": {},
     "output_type": "execute_result"
    }
   ],
   "source": [
    "device = torch.device(\"cuda:0\" if torch.cuda.is_available() else \"cpu\")\n",
    "device"
   ]
  },
  {
   "cell_type": "code",
   "execution_count": 10,
   "metadata": {},
   "outputs": [],
   "source": [
    "import pandas as pd\n",
    "import os\n",
    "import shutil\n",
    "\n",
    "df = pd.read_csv('inverted/invertedLabels.csv')\n",
    "root = 'inverted'\n",
    "\n",
    "for index, row in df.iterrows():\n",
    "    imageName = f'{row[\"image\"]}.jpeg'\n",
    "    source = os.path.join(root, imageName)\n",
    "    \n",
    "    if os.path.exists(source):\n",
    "        dest = os.path.join(f'{root}',f'{row[\"inverted\"]}')\n",
    "        dest = os.path.join(dest, imageName)\n",
    "        shutil.move(source, dest)\n",
    "    "
   ]
  },
  {
   "cell_type": "code",
   "execution_count": 11,
   "metadata": {},
   "outputs": [],
   "source": [
    "batch_size = 4\n",
    "scale_size = (1024, 1024)\n",
    "\n",
    "root = 'inverted'"
   ]
  },
  {
   "cell_type": "code",
   "execution_count": 12,
   "metadata": {},
   "outputs": [],
   "source": [
    "def crop(img):\n",
    "    width, height = img.size\n",
    "    return torchvision.transforms.functional.crop(img, 0, width/2, width, height)\n",
    "\n",
    "images = ImageFolder(\n",
    "    root=root,\n",
    "    transform=transforms.Compose([\n",
    "        transforms.Resize(scale_size),\n",
    "        # transforms.Lambda(crop),\n",
    "        transforms.ToTensor(), \n",
    "        transforms.Normalize([0.41661593, 0.29097975, 0.20843531], [0.26398131, 0.19219237, 0.15810781]),\n",
    "        # transforms.Lambda(blackAndWhite),\n",
    "    ])\n",
    ")\n",
    "\n",
    "train_size = int(0.8 * len(images))\n",
    "test_size = len(images) - train_size\n",
    "\n",
    "train_dataset, test_dataset = random_split(images, [train_size, test_size])\n",
    "\n",
    "train_loader = DataLoader(train_dataset, batch_size=batch_size, shuffle=False)\n",
    "test_loader = DataLoader(test_dataset, batch_size=batch_size, shuffle=False)\n"
   ]
  },
  {
   "cell_type": "code",
   "execution_count": 13,
   "metadata": {},
   "outputs": [
    {
     "name": "stderr",
     "output_type": "stream",
     "text": [
      "Clipping input data to the valid range for imshow with RGB data ([0..1] for floats or [0..255] for integers). Got range [-1.5782024..3.5462868].\n",
      "Clipping input data to the valid range for imshow with RGB data ([0..1] for floats or [0..255] for integers). Got range [-1.5782024..3.2810297].\n",
      "Clipping input data to the valid range for imshow with RGB data ([0..1] for floats or [0..255] for integers). Got range [-1.5782024..2.5464716].\n",
      "Clipping input data to the valid range for imshow with RGB data ([0..1] for floats or [0..255] for integers). Got range [-1.5782024..3.5258825].\n"
     ]
    },
    {
     "data": {
      "image/png": "[encoded data removed]",
      "text/plain": [
       "<Figure size 200x200 with 4 Axes>"
      ]
     },
     "metadata": {},
     "output_type": "display_data"
    }
   ],
   "source": [
    "imgs, _ = next(iter(train_loader))\n",
    "show_images(imgs.numpy().squeeze(), color=True)"
   ]
  },
  {
   "cell_type": "code",
   "execution_count": null,
   "metadata": {},
   "outputs": [
    {
     "name": "stdout",
     "output_type": "stream",
     "text": [
      "Epoch: 0\n",
      "Avg Loss: 0.40085704729222416\n",
      "Accuracy: 93.42105263157895%\n",
      "Epoch: 1\n",
      "Avg Loss: 0.31196331747464445\n",
      "Accuracy: 88.59649122807018%\n",
      "Epoch: 2\n",
      "Avg Loss: 0.2845746398364243\n",
      "Accuracy: 94.29824561403508%\n",
      "Epoch: 3\n",
      "Avg Loss: 0.26719775230198967\n",
      "Accuracy: 93.85964912280701%\n",
      "Epoch: 4\n",
      "Avg Loss: 0.250420255439454\n",
      "Accuracy: 94.29824561403508%\n",
      "Epoch: 5\n",
      "Avg Loss: 0.2630056667942227\n",
      "Accuracy: 92.98245614035088%\n",
      "Epoch: 6\n",
      "Avg Loss: 0.24107800295020929\n",
      "Accuracy: 94.29824561403508%\n",
      "Epoch: 7\n",
      "Avg Loss: 0.24444865507661903\n",
      "Accuracy: 94.29824561403508%\n",
      "Epoch: 8\n",
      "Avg Loss: 0.24367148393005328\n",
      "Accuracy: 94.73684210526316%\n",
      "Epoch: 9\n",
      "Avg Loss: 0.2249393935944362\n",
      "Accuracy: 93.85964912280701%\n",
      "Epoch: 10\n",
      "Avg Loss: 0.232829666386048\n",
      "Accuracy: 93.85964912280701%\n",
      "Epoch: 11\n",
      "Avg Loss: 0.2265549557683826\n",
      "Accuracy: 93.42105263157895%\n",
      "Epoch: 12\n",
      "Avg Loss: 0.22721717602842928\n",
      "Accuracy: 92.98245614035088%\n",
      "Epoch: 13\n"
     ]
    }
   ],
   "source": [
    "from InversionClassifier import InversionClassifier\n",
    "\n",
    "model = InversionClassifier().to(device)\n",
    "\n",
    "criterion = nn.CrossEntropyLoss()\n",
    "optimizer = optim.SGD(model.parameters(), lr=0.001, fused=True, nesterov=True, momentum=0.9, weight_decay=1e-4)\n",
    "\n",
    "num_epochs = 20\n",
    "\n",
    "for epoch in range(num_epochs):\n",
    "    print(f'Epoch: {epoch}')\n",
    "    model.train()\n",
    "    totLoss = 0.0\n",
    "    \n",
    "    for images, labels in train_loader:\n",
    "        images, labels = images.to(device), labels.to(device)\n",
    "        \n",
    "        optimizer.zero_grad()\n",
    "        \n",
    "        output = model(images)\n",
    "        loss = criterion(output, labels)\n",
    "        \n",
    "        loss.backward()\n",
    "        optimizer.step()\n",
    "        \n",
    "        totLoss += loss.item()\n",
    "    \n",
    "    print(f'Avg Loss: {totLoss / len(train_loader)}')\n",
    "    \n",
    "    model.eval()\n",
    "    correct = 0\n",
    "    total = 0\n",
    "    \n",
    "    with torch.no_grad():\n",
    "        for images, labels in test_loader:   \n",
    "            images, labels = images.to(device), labels.to(device)\n",
    "            outputs = model(images)\n",
    "            _, pred = torch.max(outputs, 1)\n",
    "            total += labels.size(0)\n",
    "            correct += (pred == labels).sum().item()\n",
    "            \n",
    "    accuracy = 100 * correct / total\n",
    "    print(f'Accuracy: {accuracy}%')\n"
   ]
  }
 ],
 "metadata": {
  "kernelspec": {
   "display_name": "ML",
   "language": "python",
   "name": "python3"
  },
  "language_info": {
   "codemirror_mode": {
    "name": "ipython",
    "version": 3
   },
   "file_extension": ".py",
   "mimetype": "text/x-python",
   "name": "python",
   "nbconvert_exporter": "python",
   "pygments_lexer": "ipython3",
   "version": "3.9.20"
  }
 },
 "nbformat": 4,
 "nbformat_minor": 2
}
